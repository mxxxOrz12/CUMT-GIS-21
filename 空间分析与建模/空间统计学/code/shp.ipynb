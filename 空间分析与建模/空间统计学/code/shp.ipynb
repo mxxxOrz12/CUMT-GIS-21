{
 "cells": [
  {
   "cell_type": "code",
   "execution_count": 2,
   "metadata": {},
   "outputs": [
    {
     "name": "stdout",
     "output_type": "stream",
     "text": [
      "Collecting contextily\n",
      "  Downloading contextily-1.6.0-py3-none-any.whl (17 kB)\n",
      "Requirement already satisfied: pillow in d:\\program\\anaconda\\lib\\site-packages (from contextily) (9.4.0)\n",
      "Collecting xyzservices\n",
      "  Downloading xyzservices-2023.10.1-py3-none-any.whl (56 kB)\n",
      "     ---------------------------------------- 56.3/56.3 kB 1.0 MB/s eta 0:00:00\n",
      "Collecting geopy\n",
      "  Downloading geopy-2.4.1-py3-none-any.whl (125 kB)\n",
      "     -------------------------------------- 125.4/125.4 kB 1.5 MB/s eta 0:00:00\n",
      "Requirement already satisfied: requests in d:\\program\\anaconda\\lib\\site-packages (from contextily) (2.28.1)\n",
      "Requirement already satisfied: matplotlib in d:\\program\\anaconda\\lib\\site-packages (from contextily) (3.7.0)\n",
      "Collecting mercantile\n",
      "  Downloading mercantile-1.2.1-py3-none-any.whl (14 kB)\n",
      "Requirement already satisfied: joblib in d:\\program\\anaconda\\lib\\site-packages (from contextily) (1.1.1)\n",
      "Collecting rasterio\n",
      "  Downloading rasterio-1.3.9-cp310-cp310-win_amd64.whl (23.4 MB)\n",
      "     ---------------------------------------- 23.4/23.4 MB 4.6 MB/s eta 0:00:00\n",
      "Collecting geographiclib<3,>=1.52\n",
      "  Downloading geographiclib-2.0-py3-none-any.whl (40 kB)\n",
      "     ---------------------------------------- 40.3/40.3 kB 1.9 MB/s eta 0:00:00\n",
      "Requirement already satisfied: kiwisolver>=1.0.1 in d:\\program\\anaconda\\lib\\site-packages (from matplotlib->contextily) (1.4.4)\n",
      "Requirement already satisfied: python-dateutil>=2.7 in d:\\program\\anaconda\\lib\\site-packages (from matplotlib->contextily) (2.8.2)\n",
      "Requirement already satisfied: numpy>=1.20 in d:\\program\\anaconda\\lib\\site-packages (from matplotlib->contextily) (1.23.5)\n",
      "Requirement already satisfied: pyparsing>=2.3.1 in d:\\program\\anaconda\\lib\\site-packages (from matplotlib->contextily) (3.0.9)\n",
      "Requirement already satisfied: cycler>=0.10 in d:\\program\\anaconda\\lib\\site-packages (from matplotlib->contextily) (0.11.0)\n",
      "Requirement already satisfied: fonttools>=4.22.0 in d:\\program\\anaconda\\lib\\site-packages (from matplotlib->contextily) (4.25.0)\n",
      "Requirement already satisfied: packaging>=20.0 in d:\\program\\anaconda\\lib\\site-packages (from matplotlib->contextily) (22.0)\n",
      "Requirement already satisfied: contourpy>=1.0.1 in d:\\program\\anaconda\\lib\\site-packages (from matplotlib->contextily) (1.0.5)\n",
      "Requirement already satisfied: click>=3.0 in d:\\program\\anaconda\\lib\\site-packages (from mercantile->contextily) (8.0.4)\n",
      "Requirement already satisfied: click-plugins in c:\\users\\ma\\appdata\\roaming\\python\\python310\\site-packages (from rasterio->contextily) (1.1.1)\n",
      "Collecting snuggs>=1.4.1\n",
      "  Downloading snuggs-1.4.7-py3-none-any.whl (5.4 kB)\n",
      "Collecting affine\n",
      "  Downloading affine-2.4.0-py3-none-any.whl (15 kB)\n",
      "Requirement already satisfied: cligj>=0.5 in c:\\users\\ma\\appdata\\roaming\\python\\python310\\site-packages (from rasterio->contextily) (0.7.2)\n",
      "Requirement already satisfied: attrs in d:\\program\\anaconda\\lib\\site-packages (from rasterio->contextily) (22.1.0)\n",
      "Requirement already satisfied: certifi in d:\\program\\anaconda\\lib\\site-packages (from rasterio->contextily) (2022.12.7)\n",
      "Requirement already satisfied: setuptools in d:\\program\\anaconda\\lib\\site-packages (from rasterio->contextily) (65.6.3)\n",
      "Requirement already satisfied: charset-normalizer<3,>=2 in d:\\program\\anaconda\\lib\\site-packages (from requests->contextily) (2.0.4)\n",
      "Requirement already satisfied: idna<4,>=2.5 in d:\\program\\anaconda\\lib\\site-packages (from requests->contextily) (3.4)\n",
      "Requirement already satisfied: urllib3<1.27,>=1.21.1 in d:\\program\\anaconda\\lib\\site-packages (from requests->contextily) (1.26.14)\n",
      "Requirement already satisfied: colorama in d:\\program\\anaconda\\lib\\site-packages (from click>=3.0->mercantile->contextily) (0.4.6)\n",
      "Requirement already satisfied: six>=1.5 in d:\\program\\anaconda\\lib\\site-packages (from python-dateutil>=2.7->matplotlib->contextily) (1.16.0)\n",
      "Installing collected packages: xyzservices, snuggs, geographiclib, affine, mercantile, geopy, rasterio, contextily\n",
      "Successfully installed affine-2.4.0 contextily-1.6.0 geographiclib-2.0 geopy-2.4.1 mercantile-1.2.1 rasterio-1.3.9 snuggs-1.4.7 xyzservices-2023.10.1\n",
      "Note: you may need to restart the kernel to use updated packages.\n"
     ]
    },
    {
     "name": "stderr",
     "output_type": "stream",
     "text": [
      "  WARNING: The script mercantile.exe is installed in 'd:\\program\\Anaconda\\Scripts' which is not on PATH.\n",
      "  Consider adding this directory to PATH or, if you prefer to suppress this warning, use --no-warn-script-location.\n",
      "  WARNING: The script rio.exe is installed in 'd:\\program\\Anaconda\\Scripts' which is not on PATH.\n",
      "  Consider adding this directory to PATH or, if you prefer to suppress this warning, use --no-warn-script-location.\n"
     ]
    }
   ],
   "source": [
    "pip install contextily"
   ]
  },
  {
   "cell_type": "code",
   "execution_count": 1,
   "metadata": {},
   "outputs": [
    {
     "name": "stderr",
     "output_type": "stream",
     "text": [
      "d:\\program\\Anaconda\\lib\\site-packages\\paramiko\\transport.py:219: CryptographyDeprecationWarning: Blowfish has been deprecated\n",
      "  \"class\": algorithms.Blowfish,\n"
     ]
    }
   ],
   "source": [
    "import geopandas\n",
    "import geodatasets\n",
    "import contextily as cx"
   ]
  }
 ],
 "metadata": {
  "kernelspec": {
   "display_name": "Python 3",
   "language": "python",
   "name": "python3"
  },
  "language_info": {
   "codemirror_mode": {
    "name": "ipython",
    "version": 3
   },
   "file_extension": ".py",
   "mimetype": "text/x-python",
   "name": "python",
   "nbconvert_exporter": "python",
   "pygments_lexer": "ipython3",
   "version": "3.10.9"
  }
 },
 "nbformat": 4,
 "nbformat_minor": 2
}
